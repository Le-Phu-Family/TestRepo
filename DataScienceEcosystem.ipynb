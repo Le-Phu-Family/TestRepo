{
 "cells": [
  {
   "cell_type": "markdown",
   "id": "4f77e4fa-24bf-443a-9f0e-fd8f11ae5777",
   "metadata": {},
   "source": [
    "# Data Science Tools and Ecosystem"
   ]
  },
  {
   "cell_type": "markdown",
   "id": "ca8a5b4d-3a5a-4c1f-a30e-c583ceff7e86",
   "metadata": {},
   "source": [
    "In this notebook, Data Science Tools and Ecosystem are summarized."
   ]
  },
  {
   "cell_type": "markdown",
   "id": "e0c88288-f16c-430e-be87-7ec95d4b0c93",
   "metadata": {},
   "source": [
    "**Objectives:**\n",
    "* List popular languages for Data Science\n",
    "* List common library used by Data Scientists\n",
    "* List Data Science Tools\n",
    "* A simple arithmetic expression\n",
    "* An expression to convert minutes to hours"
   ]
  },
  {
   "cell_type": "markdown",
   "id": "dc3cf48c-5dd8-442c-9db0-84a1fbe1afd1",
   "metadata": {},
   "source": [
    "Some of the popular languages that Data Science use are:\n",
    "1. Python\n",
    "2. R\n",
    "3. SQL"
   ]
  },
  {
   "cell_type": "markdown",
   "id": "2d2f4b83-fe41-4f3a-b8a9-b739de87b2d5",
   "metadata": {},
   "source": [
    "Some of the commonly used libraries used by Data Scientists include:\r",
    "1. Numpy\n",
    "2. Pandas\n",
    "3. Matplotlib\n"
   ]
  },
  {
   "cell_type": "markdown",
   "id": "9cf7c37e-3ffa-4e0a-a41a-d0c8b0baf6df",
   "metadata": {},
   "source": [
    "| Data Science Tools |\n",
    "|--------------------|\n",
    "|Jupyter Notebooks|\n",
    "|RStudio|\n",
    "|VS Code|"
   ]
  },
  {
   "cell_type": "markdown",
   "id": "2579c4c9-ef41-4f8d-98d9-bebbd6c87f90",
   "metadata": {},
   "source": [
    "### Below are a few examples of evaluating arithmetic expressions in Python\r\n",
    "\r\n"
   ]
  },
  {
   "cell_type": "code",
   "execution_count": 3,
   "id": "a7a911a8-37b6-40f1-9142-da49b1f0a013",
   "metadata": {},
   "outputs": [
    {
     "data": {
      "text/plain": [
       "17"
      ]
     },
     "execution_count": 3,
     "metadata": {},
     "output_type": "execute_result"
    }
   ],
   "source": [
    "(3*4)+5 #This a simple arithmetic expression to mutiply then add integers"
   ]
  },
  {
   "cell_type": "code",
   "execution_count": 4,
   "id": "5bb092d8-021b-4ef3-b2a9-e1d73ceb325e",
   "metadata": {},
   "outputs": [
    {
     "data": {
      "text/plain": [
       "3.3333333333333335"
      ]
     },
     "execution_count": 4,
     "metadata": {},
     "output_type": "execute_result"
    }
   ],
   "source": [
    "200/60 #This will convert 200 minutes to hours by diving by 60"
   ]
  },
  {
   "cell_type": "markdown",
   "id": "87078473-6deb-48fc-a908-b8766235a2a3",
   "metadata": {},
   "source": [
    "## Author\n",
    "Lê Phú"
   ]
  },
  {
   "cell_type": "code",
   "execution_count": null,
   "id": "246051dd-bb83-403d-9c03-04f0accbbf3e",
   "metadata": {},
   "outputs": [],
   "source": []
  }
 ],
 "metadata": {
  "kernelspec": {
   "display_name": "Python 3 (ipykernel)",
   "language": "python",
   "name": "python3"
  },
  "language_info": {
   "codemirror_mode": {
    "name": "ipython",
    "version": 3
   },
   "file_extension": ".py",
   "mimetype": "text/x-python",
   "name": "python",
   "nbconvert_exporter": "python",
   "pygments_lexer": "ipython3",
   "version": "3.12.4"
  }
 },
 "nbformat": 4,
 "nbformat_minor": 5
}
